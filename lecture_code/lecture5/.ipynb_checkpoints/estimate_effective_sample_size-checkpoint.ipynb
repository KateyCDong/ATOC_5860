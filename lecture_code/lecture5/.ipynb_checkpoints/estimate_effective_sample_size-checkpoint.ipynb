{
 "cells": [
  {
   "cell_type": "markdown",
   "metadata": {},
   "source": [
    "# ATOC5860 - estimate_effective_sample_size - Lecture #5\n",
    "### coded by Prof. Jennifer Kay (University of Colorado)\n",
    "### last updated: February 3, 2023"
   ]
  },
  {
   "cell_type": "code",
   "execution_count": 1,
   "metadata": {},
   "outputs": [],
   "source": [
    "import numpy as np\n",
    "import matplotlib\n",
    "%matplotlib inline\n",
    "import matplotlib.pyplot as plt\n",
    "import xarray\n",
    "import pandas as pd   ##pandas reads in .csv.\n",
    "from scipy import stats"
   ]
  },
  {
   "cell_type": "code",
   "execution_count": 2,
   "metadata": {},
   "outputs": [
    {
     "name": "stdout",
     "output_type": "stream",
     "text": [
      "   days  hour_frac     pres_mb  tdry_degC  rh_percent  wdir  wspd_m_per_s  \\\n",
      "0   363   0.000000  794.799988       -1.9   33.200001   176           6.4   \n",
      "1   363   0.083333  794.900024       -2.1   33.599998   183           6.8   \n",
      "2   363   0.166667  794.900024       -2.0   32.799999   177           7.1   \n",
      "3   363   0.250000  794.900024       -2.1   33.099998   183           4.8   \n",
      "4   363   0.333333  794.900024       -2.3   33.099998   181           5.5   \n",
      "\n",
      "   wspdmax_m_per_s  raina_event_mm  Unnamed: 9  \n",
      "0              9.9             0.0           1  \n",
      "1              9.3             0.0           2  \n",
      "2              9.8             0.0           3  \n",
      "3              8.2             0.0           4  \n",
      "4              7.5             0.0           5  \n",
      "     days  hour_frac     pres_mb  tdry_degC  rh_percent  wdir  wspd_m_per_s  \\\n",
      "859   365  23.583333  794.900024       -4.4   86.500000   100           1.8   \n",
      "860   365  23.666667  795.000000       -4.4   86.500000    87           2.0   \n",
      "861   365  23.750000  795.099976       -4.5   86.599998   100           1.6   \n",
      "862   365  23.833333  795.099976       -4.4   86.699997    84           2.4   \n",
      "863   365  23.916667  795.099976       -4.5   86.699997    74           2.0   \n",
      "\n",
      "     wspdmax_m_per_s  raina_event_mm  Unnamed: 9  \n",
      "859              4.8             0.0         860  \n",
      "860              5.2             0.0         861  \n",
      "861              4.6             0.0         862  \n",
      "862              4.5             0.0         863  \n",
      "863              4.2             0.0         864  \n"
     ]
    },
    {
     "data": {
      "text/html": [
       "<div>\n",
       "<style scoped>\n",
       "    .dataframe tbody tr th:only-of-type {\n",
       "        vertical-align: middle;\n",
       "    }\n",
       "\n",
       "    .dataframe tbody tr th {\n",
       "        vertical-align: top;\n",
       "    }\n",
       "\n",
       "    .dataframe thead th {\n",
       "        text-align: right;\n",
       "    }\n",
       "</style>\n",
       "<table border=\"1\" class=\"dataframe\">\n",
       "  <thead>\n",
       "    <tr style=\"text-align: right;\">\n",
       "      <th></th>\n",
       "      <th>days</th>\n",
       "      <th>hour_frac</th>\n",
       "      <th>pres_mb</th>\n",
       "      <th>tdry_degC</th>\n",
       "      <th>rh_percent</th>\n",
       "      <th>wdir</th>\n",
       "      <th>wspd_m_per_s</th>\n",
       "      <th>wspdmax_m_per_s</th>\n",
       "      <th>raina_event_mm</th>\n",
       "      <th>Unnamed: 9</th>\n",
       "    </tr>\n",
       "  </thead>\n",
       "  <tbody>\n",
       "    <tr>\n",
       "      <th>0</th>\n",
       "      <td>363</td>\n",
       "      <td>0.000000</td>\n",
       "      <td>794.799988</td>\n",
       "      <td>-1.9</td>\n",
       "      <td>33.200001</td>\n",
       "      <td>176</td>\n",
       "      <td>6.4</td>\n",
       "      <td>9.9</td>\n",
       "      <td>0.0</td>\n",
       "      <td>1</td>\n",
       "    </tr>\n",
       "    <tr>\n",
       "      <th>1</th>\n",
       "      <td>363</td>\n",
       "      <td>0.083333</td>\n",
       "      <td>794.900024</td>\n",
       "      <td>-2.1</td>\n",
       "      <td>33.599998</td>\n",
       "      <td>183</td>\n",
       "      <td>6.8</td>\n",
       "      <td>9.3</td>\n",
       "      <td>0.0</td>\n",
       "      <td>2</td>\n",
       "    </tr>\n",
       "    <tr>\n",
       "      <th>2</th>\n",
       "      <td>363</td>\n",
       "      <td>0.166667</td>\n",
       "      <td>794.900024</td>\n",
       "      <td>-2.0</td>\n",
       "      <td>32.799999</td>\n",
       "      <td>177</td>\n",
       "      <td>7.1</td>\n",
       "      <td>9.8</td>\n",
       "      <td>0.0</td>\n",
       "      <td>3</td>\n",
       "    </tr>\n",
       "    <tr>\n",
       "      <th>3</th>\n",
       "      <td>363</td>\n",
       "      <td>0.250000</td>\n",
       "      <td>794.900024</td>\n",
       "      <td>-2.1</td>\n",
       "      <td>33.099998</td>\n",
       "      <td>183</td>\n",
       "      <td>4.8</td>\n",
       "      <td>8.2</td>\n",
       "      <td>0.0</td>\n",
       "      <td>4</td>\n",
       "    </tr>\n",
       "    <tr>\n",
       "      <th>4</th>\n",
       "      <td>363</td>\n",
       "      <td>0.333333</td>\n",
       "      <td>794.900024</td>\n",
       "      <td>-2.3</td>\n",
       "      <td>33.099998</td>\n",
       "      <td>181</td>\n",
       "      <td>5.5</td>\n",
       "      <td>7.5</td>\n",
       "      <td>0.0</td>\n",
       "      <td>5</td>\n",
       "    </tr>\n",
       "    <tr>\n",
       "      <th>...</th>\n",
       "      <td>...</td>\n",
       "      <td>...</td>\n",
       "      <td>...</td>\n",
       "      <td>...</td>\n",
       "      <td>...</td>\n",
       "      <td>...</td>\n",
       "      <td>...</td>\n",
       "      <td>...</td>\n",
       "      <td>...</td>\n",
       "      <td>...</td>\n",
       "    </tr>\n",
       "    <tr>\n",
       "      <th>859</th>\n",
       "      <td>365</td>\n",
       "      <td>23.583333</td>\n",
       "      <td>794.900024</td>\n",
       "      <td>-4.4</td>\n",
       "      <td>86.500000</td>\n",
       "      <td>100</td>\n",
       "      <td>1.8</td>\n",
       "      <td>4.8</td>\n",
       "      <td>0.0</td>\n",
       "      <td>860</td>\n",
       "    </tr>\n",
       "    <tr>\n",
       "      <th>860</th>\n",
       "      <td>365</td>\n",
       "      <td>23.666667</td>\n",
       "      <td>795.000000</td>\n",
       "      <td>-4.4</td>\n",
       "      <td>86.500000</td>\n",
       "      <td>87</td>\n",
       "      <td>2.0</td>\n",
       "      <td>5.2</td>\n",
       "      <td>0.0</td>\n",
       "      <td>861</td>\n",
       "    </tr>\n",
       "    <tr>\n",
       "      <th>861</th>\n",
       "      <td>365</td>\n",
       "      <td>23.750000</td>\n",
       "      <td>795.099976</td>\n",
       "      <td>-4.5</td>\n",
       "      <td>86.599998</td>\n",
       "      <td>100</td>\n",
       "      <td>1.6</td>\n",
       "      <td>4.6</td>\n",
       "      <td>0.0</td>\n",
       "      <td>862</td>\n",
       "    </tr>\n",
       "    <tr>\n",
       "      <th>862</th>\n",
       "      <td>365</td>\n",
       "      <td>23.833333</td>\n",
       "      <td>795.099976</td>\n",
       "      <td>-4.4</td>\n",
       "      <td>86.699997</td>\n",
       "      <td>84</td>\n",
       "      <td>2.4</td>\n",
       "      <td>4.5</td>\n",
       "      <td>0.0</td>\n",
       "      <td>863</td>\n",
       "    </tr>\n",
       "    <tr>\n",
       "      <th>863</th>\n",
       "      <td>365</td>\n",
       "      <td>23.916667</td>\n",
       "      <td>795.099976</td>\n",
       "      <td>-4.5</td>\n",
       "      <td>86.699997</td>\n",
       "      <td>74</td>\n",
       "      <td>2.0</td>\n",
       "      <td>4.2</td>\n",
       "      <td>0.0</td>\n",
       "      <td>864</td>\n",
       "    </tr>\n",
       "  </tbody>\n",
       "</table>\n",
       "<p>864 rows × 10 columns</p>\n",
       "</div>"
      ],
      "text/plain": [
       "     days  hour_frac     pres_mb  tdry_degC  rh_percent  wdir  wspd_m_per_s  \\\n",
       "0     363   0.000000  794.799988       -1.9   33.200001   176           6.4   \n",
       "1     363   0.083333  794.900024       -2.1   33.599998   183           6.8   \n",
       "2     363   0.166667  794.900024       -2.0   32.799999   177           7.1   \n",
       "3     363   0.250000  794.900024       -2.1   33.099998   183           4.8   \n",
       "4     363   0.333333  794.900024       -2.3   33.099998   181           5.5   \n",
       "..    ...        ...         ...        ...         ...   ...           ...   \n",
       "859   365  23.583333  794.900024       -4.4   86.500000   100           1.8   \n",
       "860   365  23.666667  795.000000       -4.4   86.500000    87           2.0   \n",
       "861   365  23.750000  795.099976       -4.5   86.599998   100           1.6   \n",
       "862   365  23.833333  795.099976       -4.4   86.699997    84           2.4   \n",
       "863   365  23.916667  795.099976       -4.5   86.699997    74           2.0   \n",
       "\n",
       "     wspdmax_m_per_s  raina_event_mm  Unnamed: 9  \n",
       "0                9.9             0.0           1  \n",
       "1                9.3             0.0           2  \n",
       "2                9.8             0.0           3  \n",
       "3                8.2             0.0           4  \n",
       "4                7.5             0.0           5  \n",
       "..               ...             ...         ...  \n",
       "859              4.8             0.0         860  \n",
       "860              5.2             0.0         861  \n",
       "861              4.6             0.0         862  \n",
       "862              4.5             0.0         863  \n",
       "863              4.2             0.0         864  \n",
       "\n",
       "[864 rows x 10 columns]"
      ]
     },
     "execution_count": 2,
     "metadata": {},
     "output_type": "execute_result"
    }
   ],
   "source": [
    "## Read in your data\n",
    "## Data are from the NCAR mesa lab weather station in Boulder Colorado\n",
    "## These data can be seen in real-time here: https://archive.eol.ucar.edu/cgi-bin/weather.cgi?site=ml\n",
    "## Note: December 29-31, 2021 was a crazy three days on many levels - Went from very windy/dry to Snow!\n",
    "## Note: The Marshall Fire started on December 30, 2021\n",
    "\n",
    "filename = 'mesa_lab_data_dec29-31_2021_nomissing.csv'\n",
    "data=pd.read_csv(filename,sep=',')\n",
    "print(data.head())\n",
    "print(data.tail())\n",
    "data"
   ]
  },
  {
   "cell_type": "code",
   "execution_count": 4,
   "metadata": {},
   "outputs": [
    {
     "name": "stdout",
     "output_type": "stream",
     "text": [
      "(864,)\n"
     ]
    },
    {
     "data": {
      "image/png": "[encoded data removed]",
      "text/plain": [
       "<Figure size 640x480 with 1 Axes>"
      ]
     },
     "metadata": {},
     "output_type": "display_data"
    }
   ],
   "source": [
    "## Look at data\n",
    "# variable='wspd_m_per_s' ## try 'pres_mb', 'tdry_degC', 'rh_percent', 'wdir', 'wspd_m_per_s', 'wspdmax_m_per_s'\n",
    "# variable='pres_mb'\n",
    "# variable='tdry_degC'\n",
    "# variable='rh_perecent'\n",
    "# variable='wdir'\n",
    "# variable='wspd_m_per_s'\n",
    "# variable='wspdmax_m_per_s'\n",
    "\n",
    "variables = ['pres_mb', 'tdry_degC', 'rh_percent', 'wdir', 'wspd_m_per_s', 'wspdmax_m_per_s']\n",
    "\n",
    "f, ax = plt.subplots()\n",
    "tseries=data[variable]\n",
    "print(tseries.shape)\n",
    "plt.plot(tseries,'*');  ## quick plot to look at data\n",
    "plt.title('Mesa Lab weather data from Boulder, CO');\n",
    "plt.ylabel(variable);\n",
    "plt.xlabel('Timestep');"
   ]
  },
  {
   "cell_type": "code",
   "execution_count": 4,
   "metadata": {},
   "outputs": [
    {
     "name": "stdout",
     "output_type": "stream",
     "text": [
      "(72,)\n",
      "(72,)\n"
     ]
    },
    {
     "data": {
      "image/png": "[encoded data removed]",
      "text/plain": [
       "<Figure size 640x480 with 1 Axes>"
      ]
     },
     "metadata": {},
     "output_type": "display_data"
    }
   ],
   "source": [
    "## Resample the data every Nhrs and Plot it again\n",
    "Nhrs=1 ## sampling rate in hours\n",
    "Ndays=3\n",
    "hours=np.arange(0,24*Ndays,Nhrs*1.)\n",
    "print(hours.shape)\n",
    "#print(hours)\n",
    "samples_per_hour=12\n",
    "tseries_resampled=tseries[::samples_per_hour*Nhrs] ## take the temperature every Nhrs\n",
    "print(tseries_resampled.shape)\n",
    "\n",
    "plt.plot(hours,tseries_resampled,'*');    ## quick plot to look at data sampled every 3 hours\n",
    "plt.title('Resampled Mesa Lab weather data from Boulder, CO');\n",
    "plt.ylabel(variable);\n",
    "plt.xlabel('Hour since Midnight 12/29/2021');\n",
    "#print(tseries_resampled)"
   ]
  },
  {
   "cell_type": "code",
   "execution_count": 5,
   "metadata": {},
   "outputs": [
    {
     "name": "stdout",
     "output_type": "stream",
     "text": [
      "Sample Size N: 72\n",
      "Mean: 4.9\n",
      "Standard Deviation: 4.4\n"
     ]
    }
   ],
   "source": [
    "### Calculate some basic statistics about your data variable\n",
    "#data=tseries\n",
    "data=tseries_resampled\n",
    "\n",
    "N=len(data)\n",
    "sigma=np.std(data)  ## calculate the standard deviation\n",
    "mean=np.mean(data)  ## calculate the mean\n",
    "print(f'Sample Size N: {N}')\n",
    "print(f'Mean: {round(mean,1)}')\n",
    "print(f'Standard Deviation: {round(sigma,1)}')"
   ]
  },
  {
   "cell_type": "code",
   "execution_count": 6,
   "metadata": {},
   "outputs": [
    {
     "name": "stdout",
     "output_type": "stream",
     "text": [
      "np.correlate AR1: 0.85348\n",
      "direct calculation AR1: 0.85348\n",
      "Did you get the same answer using np.correlate and the direct calculation\n"
     ]
    }
   ],
   "source": [
    "## Estimate lag-1 autocorrelation\n",
    "lag=1\n",
    "t1_m=data.iloc[0:-1*lag]-mean\n",
    "t2_m=data.iloc[lag:]-mean\n",
    "\n",
    "#Method #1\n",
    "#Calculate the autocorrelation using numpy correlate lagN\n",
    "AR1_np=np.correlate(t1_m,t2_m,mode='valid')/(N-lag)/(sigma**2)\n",
    "print(f'np.correlate AR1: {round(AR1_np[0],5)}')\n",
    "\n",
    "#Method #2\n",
    "#Calculate the autocorrelation using numpy dot (direct calculation)\n",
    "## (https://docs.scipy.org/doc/numpy-1.13.0/reference/generated/numpy.dot.html)\n",
    "AR1=np.dot(t1_m,t2_m)/(N-lag)/sigma**2 ## Barnes Chapter 2 Eq. 68 divided by the variance\n",
    "print(f'direct calculation AR1: {round(AR1,5)}')\n",
    "\n",
    "print('Did you get the same answer using np.correlate and the direct calculation')"
   ]
  },
  {
   "cell_type": "code",
   "execution_count": 7,
   "metadata": {},
   "outputs": [
    {
     "name": "stdout",
     "output_type": "stream",
     "text": [
      "Number of samples N: 72\n",
      "Effective Sample Size Wilks N* (#independent samples): 6\n",
      "Effective Sample Size Leith N* (#independent samples): 6\n"
     ]
    }
   ],
   "source": [
    "## Calculate effective sample size (N*)\n",
    "## Note: Leith function to estimate N* is not well behaved for large autocorrelations\n",
    "## Prof. Kay recommends using Wilks\n",
    "\n",
    "Nstar_wilks=round(((1-AR1)/(1+AR1))*N) ## Barnes Chapter 2 eq. 88\n",
    "Nstar_leith=round((-0.5*np.log(AR1))*N) ## Barnes Chapter 2 eq. 90\n",
    "print('Number of samples N:',N)\n",
    "print(f'Effective Sample Size Wilks N* (#independent samples): {Nstar_wilks}')\n",
    "print(f'Effective Sample Size Leith N* (#independent samples): {Nstar_leith}')"
   ]
  },
  {
   "cell_type": "markdown",
   "metadata": {},
   "source": [
    "### Recommended tinkering:\n",
    "1) Assess the autocorrelation and N* for different weather variables\n",
    "2) Assess the influence of resampling.  Why might you resample your data before estimating N*?"
   ]
  },
  {
   "cell_type": "code",
   "execution_count": null,
   "metadata": {},
   "outputs": [],
   "source": []
  },
  {
   "cell_type": "code",
   "execution_count": null,
   "metadata": {},
   "outputs": [],
   "source": []
  }
 ],
 "metadata": {
  "kernelspec": {
   "display_name": "Python 3 (ipykernel)",
   "language": "python",
   "name": "python3"
  },
  "language_info": {
   "codemirror_mode": {
    "name": "ipython",
    "version": 3
   },
   "file_extension": ".py",
   "mimetype": "text/x-python",
   "name": "python",
   "nbconvert_exporter": "python",
   "pygments_lexer": "ipython3",
   "version": "3.9.15"
  }
 },
 "nbformat": 4,
 "nbformat_minor": 2
}

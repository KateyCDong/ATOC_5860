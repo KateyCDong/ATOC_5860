{
 "cells": [
  {
   "cell_type": "code",
   "execution_count": 2,
   "id": "ddfae899",
   "metadata": {},
   "outputs": [],
   "source": [
    "## import modules\n",
    "\n",
    "from minisom import MiniSom, asymptotic_decay\n",
    "import xarray as xr\n",
    "import cftime\n",
    "import numpy as np\n",
    "import pandas as pd\n",
    "import matplotlib.pyplot as plt\n",
    "from itertools import product\n",
    "import cartopy\n",
    "import cartopy.crs as ccrs\n",
    "from datetime import timedelta\n",
    "from itertools import product\n",
    "import pickle\n",
    "import sammon"
   ]
  },
  {
   "cell_type": "code",
   "execution_count": null,
   "id": "06ea3a09",
   "metadata": {},
   "outputs": [],
   "source": []
  }
 ],
 "metadata": {
  "kernelspec": {
   "display_name": "Python 3 (ipykernel)",
   "language": "python",
   "name": "python3"
  },
  "language_info": {
   "codemirror_mode": {
    "name": "ipython",
    "version": 3
   },
   "file_extension": ".py",
   "mimetype": "text/x-python",
   "name": "python",
   "nbconvert_exporter": "python",
   "pygments_lexer": "ipython3",
   "version": "3.7.9"
  }
 },
 "nbformat": 4,
 "nbformat_minor": 5
}
